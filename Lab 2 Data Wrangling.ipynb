{
 "cells": [
  {
   "cell_type": "code",
   "execution_count": 3,
   "id": "028e6dba-47de-4374-a309-c50264a0cb4d",
   "metadata": {},
   "outputs": [
    {
     "name": "stdout",
     "output_type": "stream",
     "text": [
      "Collecting pandas\n",
      "  Downloading pandas-2.3.3-cp312-cp312-manylinux_2_24_x86_64.manylinux_2_28_x86_64.whl.metadata (91 kB)\n",
      "Collecting numpy\n",
      "  Downloading numpy-2.3.4-cp312-cp312-manylinux_2_27_x86_64.manylinux_2_28_x86_64.whl.metadata (62 kB)\n",
      "Requirement already satisfied: python-dateutil>=2.8.2 in /opt/conda/lib/python3.12/site-packages (from pandas) (2.9.0.post0)\n",
      "Requirement already satisfied: pytz>=2020.1 in /opt/conda/lib/python3.12/site-packages (from pandas) (2024.2)\n",
      "Collecting tzdata>=2022.7 (from pandas)\n",
      "  Downloading tzdata-2025.2-py2.py3-none-any.whl.metadata (1.4 kB)\n",
      "Requirement already satisfied: six>=1.5 in /opt/conda/lib/python3.12/site-packages (from python-dateutil>=2.8.2->pandas) (1.17.0)\n",
      "Downloading pandas-2.3.3-cp312-cp312-manylinux_2_24_x86_64.manylinux_2_28_x86_64.whl (12.4 MB)\n",
      "\u001b[2K   \u001b[90m━━━━━━━━━━━━━━━━━━━━━━━━━━━━━━━━━━━━━━━━\u001b[0m \u001b[32m12.4/12.4 MB\u001b[0m \u001b[31m141.3 MB/s\u001b[0m eta \u001b[36m0:00:00\u001b[0m\n",
      "\u001b[?25hDownloading numpy-2.3.4-cp312-cp312-manylinux_2_27_x86_64.manylinux_2_28_x86_64.whl (16.6 MB)\n",
      "\u001b[2K   \u001b[90m━━━━━━━━━━━━━━━━━━━━━━━━━━━━━━━━━━━━━━━━\u001b[0m \u001b[32m16.6/16.6 MB\u001b[0m \u001b[31m173.0 MB/s\u001b[0m eta \u001b[36m0:00:00\u001b[0m\n",
      "Downloading tzdata-2025.2-py2.py3-none-any.whl (347 kB)\n",
      "Installing collected packages: tzdata, numpy, pandas\n",
      "Successfully installed numpy-2.3.4 pandas-2.3.3 tzdata-2025.2\n",
      "Setup completed!\n",
      "   FlightNumber        Date BoosterVersion  PayloadMass Orbit    LaunchSite  \\\n",
      "0             1  2010-06-04       Falcon 9  6104.959412   LEO  CCAFS SLC 40   \n",
      "1             2  2012-05-22       Falcon 9   525.000000   LEO  CCAFS SLC 40   \n",
      "2             3  2013-03-01       Falcon 9   677.000000   ISS  CCAFS SLC 40   \n",
      "3             4  2013-09-29       Falcon 9   500.000000    PO   VAFB SLC 4E   \n",
      "4             5  2013-12-03       Falcon 9  3170.000000   GTO  CCAFS SLC 40   \n",
      "\n",
      "       Outcome  Flights  GridFins  Reused   Legs LandingPad  Block  \\\n",
      "0    None None        1     False   False  False        NaN    1.0   \n",
      "1    None None        1     False   False  False        NaN    1.0   \n",
      "2    None None        1     False   False  False        NaN    1.0   \n",
      "3  False Ocean        1     False   False  False        NaN    1.0   \n",
      "4    None None        1     False   False  False        NaN    1.0   \n",
      "\n",
      "   ReusedCount Serial   Longitude   Latitude  \n",
      "0            0  B0003  -80.577366  28.561857  \n",
      "1            0  B0005  -80.577366  28.561857  \n",
      "2            0  B0007  -80.577366  28.561857  \n",
      "3            0  B1003 -120.610829  34.632093  \n",
      "4            0  B1004  -80.577366  28.561857  \n"
     ]
    }
   ],
   "source": [
    "\n",
    "!pip install pandas numpy\n",
    "\n",
    "import pandas as pd\n",
    "import numpy as np\n",
    "\n",
    "\n",
    "df = pd.read_csv(\"https://cf-courses-data.s3.us.cloud-object-storage.appdomain.cloud/IBM-DS0321EN-SkillsNetwork/datasets/dataset_part_1.csv\")\n",
    "\n",
    "print(\"Setup completed!\")\n",
    "print(df.head())\n"
   ]
  },
  {
   "cell_type": "code",
   "execution_count": 6,
   "id": "e0bdaaf1-fd66-4b9c-971a-fc33a83d4bbe",
   "metadata": {},
   "outputs": [
    {
     "name": "stdout",
     "output_type": "stream",
     "text": [
      "Libraries imported successfully!\n",
      "✅ Dataset loaded successfully!\n",
      "Dataset shape: (90, 17)\n",
      "Columns: ['FlightNumber', 'Date', 'BoosterVersion', 'PayloadMass', 'Orbit', 'LaunchSite', 'Outcome', 'Flights', 'GridFins', 'Reused', 'Legs', 'LandingPad', 'Block', 'ReusedCount', 'Serial', 'Longitude', 'Latitude']\n",
      "\n",
      "First 5 rows:\n",
      "   FlightNumber        Date BoosterVersion  PayloadMass Orbit    LaunchSite  \\\n",
      "0             1  2010-06-04       Falcon 9  6104.959412   LEO  CCAFS SLC 40   \n",
      "1             2  2012-05-22       Falcon 9   525.000000   LEO  CCAFS SLC 40   \n",
      "2             3  2013-03-01       Falcon 9   677.000000   ISS  CCAFS SLC 40   \n",
      "3             4  2013-09-29       Falcon 9   500.000000    PO   VAFB SLC 4E   \n",
      "4             5  2013-12-03       Falcon 9  3170.000000   GTO  CCAFS SLC 40   \n",
      "\n",
      "       Outcome  Flights  GridFins  Reused   Legs LandingPad  Block  \\\n",
      "0    None None        1     False   False  False        NaN    1.0   \n",
      "1    None None        1     False   False  False        NaN    1.0   \n",
      "2    None None        1     False   False  False        NaN    1.0   \n",
      "3  False Ocean        1     False   False  False        NaN    1.0   \n",
      "4    None None        1     False   False  False        NaN    1.0   \n",
      "\n",
      "   ReusedCount Serial   Longitude   Latitude  \n",
      "0            0  B0003  -80.577366  28.561857  \n",
      "1            0  B0005  -80.577366  28.561857  \n",
      "2            0  B0007  -80.577366  28.561857  \n",
      "3            0  B1003 -120.610829  34.632093  \n",
      "4            0  B1004  -80.577366  28.561857  \n"
     ]
    }
   ],
   "source": [
    "import pandas as pd\n",
    "import numpy as np\n",
    "import requests\n",
    "\n",
    "print(\"Libraries imported successfully!\")\n",
    "\n",
    "df = pd.read_csv(\"https://cf-courses-data.s3.us.cloud-object-storage.appdomain.cloud/IBM-DS0321EN-SkillsNetwork/datasets/dataset_part_1.csv\")\n",
    "\n",
    "print(\"✅ Dataset loaded successfully!\")\n",
    "print(f\"Dataset shape: {df.shape}\")\n",
    "print(f\"Columns: {list(df.columns)}\")\n",
    "\n",
    "# Checking first few rows\n",
    "print(\"\\nFirst 5 rows:\")\n",
    "print(df.head())\n"
   ]
  },
  {
   "cell_type": "code",
   "execution_count": 7,
   "id": "3e81c5a3-bda6-45fb-bed1-935da480bfe8",
   "metadata": {},
   "outputs": [
    {
     "name": "stdout",
     "output_type": "stream",
     "text": [
      "MISSING VALUES ANALYSIS:\n",
      "========================================\n",
      "Missing values percentage in each column:\n",
      "FlightNumber       0.000000\n",
      "Date               0.000000\n",
      "BoosterVersion     0.000000\n",
      "PayloadMass        0.000000\n",
      "Orbit              0.000000\n",
      "LaunchSite         0.000000\n",
      "Outcome            0.000000\n",
      "Flights            0.000000\n",
      "GridFins           0.000000\n",
      "Reused             0.000000\n",
      "Legs               0.000000\n",
      "LandingPad        28.888889\n",
      "Block              0.000000\n",
      "ReusedCount        0.000000\n",
      "Serial             0.000000\n",
      "Longitude          0.000000\n",
      "Latitude           0.000000\n",
      "dtype: float64\n",
      "\n",
      "DATA TYPES:\n",
      "====================\n",
      "FlightNumber        int64\n",
      "Date               object\n",
      "BoosterVersion     object\n",
      "PayloadMass       float64\n",
      "Orbit              object\n",
      "LaunchSite         object\n",
      "Outcome            object\n",
      "Flights             int64\n",
      "GridFins             bool\n",
      "Reused               bool\n",
      "Legs                 bool\n",
      "LandingPad         object\n",
      "Block             float64\n",
      "ReusedCount         int64\n",
      "Serial             object\n",
      "Longitude         float64\n",
      "Latitude          float64\n",
      "dtype: object\n",
      "\n",
      "Dataset Info:\n",
      "- Total rows: 90\n",
      "- Total columns: 17\n",
      "- Column names: ['FlightNumber', 'Date', 'BoosterVersion', 'PayloadMass', 'Orbit', 'LaunchSite', 'Outcome', 'Flights', 'GridFins', 'Reused', 'Legs', 'LandingPad', 'Block', 'ReusedCount', 'Serial', 'Longitude', 'Latitude']\n"
     ]
    }
   ],
   "source": [
    "# Checking for missing values\n",
    "print(\"MISSING VALUES ANALYSIS:\")\n",
    "print(\"=\"*40)\n",
    "missing_percentages = df.isnull().sum()/len(df)*100\n",
    "print(\"Missing values percentage in each column:\")\n",
    "print(missing_percentages)\n",
    "\n",
    "# Checking data types\n",
    "print(\"\\nDATA TYPES:\")\n",
    "print(\"=\"*20)\n",
    "print(df.dtypes)\n",
    "\n",
    "# Basic dataset information\n",
    "print(f\"\\nDataset Info:\")\n",
    "print(f\"- Total rows: {len(df)}\")\n",
    "print(f\"- Total columns: {len(df.columns)}\")\n",
    "print(f\"- Column names: {list(df.columns)}\")\n"
   ]
  },
  {
   "cell_type": "markdown",
   "id": "090b9327-a78d-4374-a838-4de743ad3156",
   "metadata": {},
   "source": [
    "### TASK 1: Calculate the number of launches on each site"
   ]
  },
  {
   "cell_type": "code",
   "execution_count": 9,
   "id": "2a1256ad-a358-44d1-8696-51b1bcfea535",
   "metadata": {},
   "outputs": [
    {
     "name": "stdout",
     "output_type": "stream",
     "text": [
      "Launch counts by site:\n",
      "LaunchSite\n",
      "CCAFS SLC 40    55\n",
      "KSC LC 39A      22\n",
      "VAFB SLC 4E     13\n",
      "Name: count, dtype: int64\n",
      "\n",
      "Total launch sites: 3\n",
      "Most active site: CCAFS SLC 40 (55 launches)\n",
      "Least active site: VAFB SLC 4E (13 launches)\n"
     ]
    }
   ],
   "source": [
    "launch_site_counts = df['LaunchSite'].value_counts()\n",
    "print(\"Launch counts by site:\")\n",
    "print(launch_site_counts)\n",
    "\n",
    "# Additional analysis\n",
    "print(f\"\\nTotal launch sites: {len(launch_site_counts)}\")\n",
    "print(f\"Most active site: {launch_site_counts.index[0]} ({launch_site_counts.iloc[0]} launches)\")\n",
    "print(f\"Least active site: {launch_site_counts.index[-1]} ({launch_site_counts.iloc[-1]} launches)\")\n"
   ]
  },
  {
   "cell_type": "markdown",
   "id": "49ddc846-dcc8-45d9-9ae9-984c65884c34",
   "metadata": {},
   "source": [
    "### TASK 2: Calculate the number and occurrence of each orbit"
   ]
  },
  {
   "cell_type": "code",
   "execution_count": 10,
   "id": "19d18886-d999-4e0c-8f1d-13d0df8e66a0",
   "metadata": {},
   "outputs": [
    {
     "name": "stdout",
     "output_type": "stream",
     "text": [
      "Orbit counts:\n",
      "Orbit\n",
      "GTO      27\n",
      "ISS      21\n",
      "VLEO     14\n",
      "PO        9\n",
      "LEO       7\n",
      "SSO       5\n",
      "MEO       3\n",
      "HEO       1\n",
      "ES-L1     1\n",
      "SO        1\n",
      "GEO       1\n",
      "Name: count, dtype: int64\n",
      "\n",
      "Total orbit types: 11\n",
      "Most common orbit: GTO (27 launches)\n",
      "Unique orbits: ['LEO' 'ISS' 'PO' 'GTO' 'ES-L1' 'SSO' 'HEO' 'MEO' 'VLEO' 'SO' 'GEO']\n",
      "\n",
      "Common Orbit Types:\n",
      "- LEO: Low Earth Orbit\n",
      "- GTO: Geostationary Transfer Orbit\n",
      "- SSO: Sun-Synchronous Orbit\n",
      "- VLEO: Very Low Earth Orbit\n",
      "- PO: Polar Orbit\n"
     ]
    }
   ],
   "source": [
    "orbit_counts = df['Orbit'].value_counts()\n",
    "print(\"Orbit counts:\")\n",
    "print(orbit_counts)\n",
    "\n",
    "# Additional analysis\n",
    "print(f\"\\nTotal orbit types: {len(orbit_counts)}\")\n",
    "print(f\"Most common orbit: {orbit_counts.index[0]} ({orbit_counts.iloc[0]} launches)\")\n",
    "print(f\"Unique orbits: {df['Orbit'].unique()}\")\n",
    "\n",
    "# Show orbit types explanation\n",
    "print(\"\\nCommon Orbit Types:\")\n",
    "print(\"- LEO: Low Earth Orbit\")\n",
    "print(\"- GTO: Geostationary Transfer Orbit\")\n",
    "print(\"- SSO: Sun-Synchronous Orbit\") \n",
    "print(\"- VLEO: Very Low Earth Orbit\")\n",
    "print(\"- PO: Polar Orbit\")\n"
   ]
  },
  {
   "cell_type": "markdown",
   "id": "088719db-87fa-4e7f-be2a-3266462d4e78",
   "metadata": {},
   "source": [
    "### TASK 3: Calculate the number and occurence of mission outcome of the orbits"
   ]
  },
  {
   "cell_type": "code",
   "execution_count": 11,
   "id": "78c4edfa-76f5-4ce7-b398-e0ab65a94c4c",
   "metadata": {},
   "outputs": [
    {
     "name": "stdout",
     "output_type": "stream",
     "text": [
      "Landing outcomes:\n",
      "Outcome\n",
      "True ASDS      41\n",
      "None None      19\n",
      "True RTLS      14\n",
      "False ASDS      6\n",
      "True Ocean      5\n",
      "False Ocean     2\n",
      "None ASDS       2\n",
      "False RTLS      1\n",
      "Name: count, dtype: int64\n",
      "\n",
      "Landing Outcome Explanations:\n",
      "- True Ocean: Successfully landed in ocean\n",
      "- False Ocean: Unsuccessfully landed in ocean\n",
      "- True RTLS: Successfully landed on ground pad\n",
      "- False RTLS: Unsuccessfully landed on ground pad\n",
      "- True ASDS: Successfully landed on drone ship\n",
      "- False ASDS: Unsuccessfully landed on drone ship\n",
      "- None ASDS: Failed to land on drone ship\n",
      "- None None: Complete failure to land\n",
      "\n",
      "Outcome indices:\n",
      "0: True ASDS\n",
      "1: None None\n",
      "2: True RTLS\n",
      "3: False ASDS\n",
      "4: True Ocean\n",
      "5: False Ocean\n",
      "6: None ASDS\n",
      "7: False RTLS\n"
     ]
    }
   ],
   "source": [
    "# Applying value_counts() on the Outcome column to determine landing outcomes\n",
    "landing_outcomes = df['Outcome'].value_counts()\n",
    "print(\"Landing outcomes:\")\n",
    "print(landing_outcomes)\n",
    "\n",
    "print(\"\\nLanding Outcome Explanations:\")\n",
    "print(\"- True Ocean: Successfully landed in ocean\")\n",
    "print(\"- False Ocean: Unsuccessfully landed in ocean\") \n",
    "print(\"- True RTLS: Successfully landed on ground pad\")\n",
    "print(\"- False RTLS: Unsuccessfully landed on ground pad\")\n",
    "print(\"- True ASDS: Successfully landed on drone ship\")\n",
    "print(\"- False ASDS: Unsuccessfully landed on drone ship\")\n",
    "print(\"- None ASDS: Failed to land on drone ship\")\n",
    "print(\"- None None: Complete failure to land\")\n",
    "\n",
    "# Showing outcomes with indices\n",
    "print(\"\\nOutcome indices:\")\n",
    "for i, outcome in enumerate(landing_outcomes.keys()):\n",
    "    print(f\"{i}: {outcome}\")\n"
   ]
  },
  {
   "cell_type": "markdown",
   "id": "ff69adf6-7acc-4019-b9d8-406ce90ba64f",
   "metadata": {},
   "source": [
    "### TASK 4: Create a landing outcome label from Outcome column\n"
   ]
  },
  {
   "cell_type": "code",
   "execution_count": null,
   "id": "3f4e2474-b923-41de-8718-2e93244521be",
   "metadata": {},
   "outputs": [],
   "source": [
    "landing_outcomes = df['Outcome'].value_counts()\n",
    "print(\"Landing outcomes:\")\n",
    "for i, outcome in enumerate(landing_outcomes.keys()):\n",
    "    print(f\"{i}: {outcome}\")\n",
    "\n",
    "# Creating a set of outcomes where the landing was not successful based on the notebook: indices [1,3,5,6,7] represent unsuccessful outcomes\n",
    "\n",
    "bad_outcomes = set(landing_outcomes.keys()[[1,3,5,6,7]])\n",
    "print(f\"\\nBad outcomes (unsuccessful): {bad_outcomes}\")\n",
    "\n",
    "# Create landing_class: 0 if bad_outcome, 1 if successful\n",
    "landing_class = []\n",
    "for outcome in df['Outcome']:\n",
    "    if outcome in bad_outcomes:\n",
    "        landing_class.append(0)  # Unsuccessful landing\n",
    "    else:\n",
    "        landing_class.append(1)  # Successful landing\n",
    "\n",
    "# Add the Class column to dataframe\n",
    "df['Class'] = landing_class\n",
    "\n",
    "print(\"Binary classification labels created:\")\n",
    "print(\"- 0: Unsuccessful landing\")  \n",
    "print(\"- 1: Successful landing\")\n",
    "\n",
    "# Show first few rows with new Class column\n",
    "print(\"\\nFirst 8 rows with Class column:\")\n",
    "print(df[['Outcome', 'Class']].head(8))\n"
   ]
  }
 ],
 "metadata": {
  "kernelspec": {
   "display_name": "Python 3 (ipykernel)",
   "language": "python",
   "name": "python3"
  },
  "language_info": {
   "codemirror_mode": {
    "name": "ipython",
    "version": 3
   },
   "file_extension": ".py",
   "mimetype": "text/x-python",
   "name": "python",
   "nbconvert_exporter": "python",
   "pygments_lexer": "ipython3",
   "version": "3.12.8"
  }
 },
 "nbformat": 4,
 "nbformat_minor": 5
}
